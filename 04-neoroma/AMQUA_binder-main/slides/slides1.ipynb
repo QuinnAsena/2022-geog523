{
 "cells": [
  {
   "cell_type": "markdown",
   "metadata": {
    "slideshow": {
     "slide_type": "slide"
    }
   },
   "source": [
    "<div style=\"display: flex;align-items: center;justify-content: center\">\n",
    "    <div>\n",
    "    <h1>neotoma2 for R<h1>\n",
    "    <h2>AMQUA Workshop</h2>\n",
    "    June 6, 2022<br>\n",
    "    Madison, WI\n",
    "    </div>\n",
    "        <div>\n",
    "        <img src=\"img/icon.png\" alt=\"logo\" align=\"right\"/>\n",
    "        </div>\n",
    "</div>"
   ]
  },
  {
   "cell_type": "markdown",
   "metadata": {
    "slideshow": {
     "slide_type": "slide"
    }
   },
   "source": [
    "## Introductions!\n",
    "\n",
    "\n",
    "Introduce yourselves in the following link:  \n",
    "[https://bit.ly/AMQUAParticipant](https://bit.ly/AMQUAParticipant)\n",
    "    \n",
    "<br>\n",
    "<br>\n",
    "<br>\n",
    "\n",
    "R in your Browser:  \n",
    "[https://bit.ly/EPDRstudio](https://bit.ly/EPDRstudio)\n",
    "<br>\n",
    "<br>\n",
    "Clone the [Github repo](https://github.com/NeotomaDB/AMQUA_binder)"
   ]
  },
  {
   "cell_type": "markdown",
   "metadata": {
    "slideshow": {
     "slide_type": "slide"
    }
   },
   "source": [
    "Slides\n",
    "\n",
    "- [https://bit.ly/3x5KVnh](https://bit.ly/3x5KVnh)  **\n",
    "\n",
    "- [https://bit.ly/3GDIcok](https://bit.ly/3GDIcok)\n",
    "\n",
    "- [https://bit.ly/3a8hkRb](https://bit.ly/3a8hkRb)\n",
    "\n",
    "- [https://bit.ly/3NIZFOs](https://bit.ly/3NIZFOs)\n",
    "\n",
    "- [https://bit.ly/38WMUBk](https://bit.ly/38WMUBk)\n"
   ]
  },
  {
   "cell_type": "markdown",
   "metadata": {
    "slideshow": {
     "slide_type": "slide"
    }
   },
   "source": [
    "## The Database\n",
    "    \n",
    "<img src=\"img/db.png\" width=\"25%\" align=\"right\"/>\n",
    "<br>\n",
    "<br>\n",
    "\n",
    "The Neotoma Database contains all the data  \n",
    "  \n",
    "* Schema: https://open.neotomadb.org/dbschema  \n",
    "  \n",
    "* Manual: https://open.neotomadb.org/manual  \n",
    "<br>\n",
    "<br>\n",
    "\n",
    "  \n",
    "But we want to use it ourselves!  \n"
   ]
  },
  {
   "cell_type": "markdown",
   "metadata": {
    "slideshow": {
     "slide_type": "slide"
    }
   },
   "source": [
    "## How Do We Get Data?\n",
    "<br><br>\n",
    "<img src=\"img/get_data.png\" width=\"75%\" align=\"middle\"/>"
   ]
  },
  {
   "cell_type": "markdown",
   "metadata": {
    "slideshow": {
     "slide_type": "slide"
    }
   },
   "source": [
    "## How Do We Get Data ***(DB Snapshot)***\n",
    "\n",
    "<img src=\"img/db_snap.png\" width=\"20%\" align=\"right\"/>\n",
    "\n",
    "* Database snapshot:\n",
    "[https://neotomadb.org/snapshots](https://neotomadb.org/snapshots)   \n",
    "\n",
    "* Using PostgreSQL RMDBS    \n",
    "    * Restore the Snapshot  \n",
    "    * Connect to the Database (pgAdmin, dBeaver, others)  \n",
    "\n",
    "***or***\n",
    "\n",
    "* R/Python with the DB directly (RPostgreSQL, psycopg2)\n"
   ]
  },
  {
   "cell_type": "markdown",
   "metadata": {
    "slideshow": {
     "slide_type": "slide"
    }
   },
   "source": [
    "## How Do We Get Data ***(API)***\n",
    "\n",
    "Using the Application Program Interface (API)  \n",
    "[https://api.neotomadb.org](https://api.neotomadb.org)  \n",
    "\n",
    "\n",
    "Structured (JSON) data, using URLs as “commands” for data:  \n",
    "[https://api.neotomadb.org/v2.0/data/datasets/17473](https://api.neotomadb.org/v2.0/data/datasets/17473)  \n",
    "\n",
    "\n",
    "Dataset information for Lake Allie, a Diatom Surface Sample  \n"
   ]
  },
  {
   "cell_type": "markdown",
   "metadata": {
    "slideshow": {
     "slide_type": "slide"
    }
   },
   "source": [
    "## Where is the API used?\n",
    "\n",
    "* Tilia uses the [Tilia API](https://tilia.neotomadb.org) for data input & output.   \n",
    "  \n",
    "  \n",
    "* Explorer uses the [Neotoma API](https://api.neotomadb.org) for data input.  \n",
    "  \n",
    "  \n",
    "* The Landing Pages use the [Neotoma API](https://api.neotomadb.org) for page information.  \n",
    "\n",
    "\n",
    "* The Neotoma “State of the Database” pages use the API (and SQL).\n",
    "\n",
    "<img src=\"img/get_data.png\" width=\"55%\" align=\"middle\"/>"
   ]
  },
  {
   "cell_type": "markdown",
   "metadata": {
    "slideshow": {
     "slide_type": "slide"
    }
   },
   "source": [
    "## How Do We Get Data ***(R Package)***\n",
    "\n",
    "<img src=\"img/r-pkg.png\" width=\"20%\" align=\"right\"/>\n",
    "\n",
    "Neotoma through the R package `neotoma2`\n",
    "\n",
    "* Pre-defined functions to access & manipulate data  \n",
    "* Connect with other existing R packages  \n",
    "\n",
    "To try `neotoma2` from Binder: [https://bit.ly/3FW0Qrh](https://bit.ly/3FW0Qrh)\n",
    "\n",
    "<br><br><br>\n",
    "To install, you need the `devtools` package as well.\n",
    "```\n",
    "install.packages('devtools')\n",
    "devtools::install_github('NeotomaDB/neotoma2')\n",
    "```\n"
   ]
  },
  {
   "cell_type": "markdown",
   "metadata": {
    "slideshow": {
     "slide_type": "slide"
    }
   },
   "source": [
    "## Sites\n",
    "[https://open.neotomadb.org/dbschema/tables/sites.html](https://open.neotomadb.org/dbschema/tables/sites.html)\n",
    "\n",
    "| | |\n",
    "|---|---|\n",
    "|![asite](img/site.png) |  <a href=\"https://open.neotomadb.org/dbschema/diagrams/tables/sites.1degree.png\"> <img src=\"https://open.neotomadb.org/dbschema/diagrams/tables/sites.1degree.png\"/> </a> |\n",
    "\n",
    "\n",
    "\n",
    "```\n",
    "```"
   ]
  },
  {
   "cell_type": "markdown",
   "metadata": {
    "slideshow": {
     "slide_type": "slide"
    }
   },
   "source": [
    "## Collection Units\n",
    "[https://open.neotomadb.org/dbschema/tables/collectionunits.html](https://open.neotomadb.org/dbschema/tables/collectionunits.html)\n",
    "\n",
    "| | |\n",
    "|---|---|\n",
    "|![asite](img/site.png) |  <a href=\"https://open.neotomadb.org/dbschema/diagrams/tables/collectionunits.1degree.png\"> <img src=\"https://open.neotomadb.org/dbschema/diagrams/tables/collectionunits.1degree.png\"/> </a> |\n",
    "\n",
    "\n",
    "\n",
    "```\n",
    "```"
   ]
  },
  {
   "cell_type": "markdown",
   "metadata": {
    "slideshow": {
     "slide_type": "slide"
    }
   },
   "source": [
    "## Datasets\n",
    "[https://open.neotomadb.org/dbschema/tables/datasets.html](https://open.neotomadb.org/dbschema/tables/datasets.html)\n",
    "\n",
    "| | |\n",
    "| --- | --- |\n",
    "|![asite](img/dataset.png) |  <a href=\"https://open.neotomadb.org/dbschema/diagrams/tables/datasets.1degree.png\"> <img src=\"https://open.neotomadb.org/dbschema/diagrams/tables/datasets.1degree.png\" height = 20%/> </a> |\n",
    "\n",
    "\n",
    "```\n",
    "```"
   ]
  },
  {
   "cell_type": "markdown",
   "metadata": {
    "slideshow": {
     "slide_type": "slide"
    }
   },
   "source": [
    "## S4 Object Structure\n",
    "\n",
    "\n",
    "<img src=\"img/s4.png\" width=\"85%\" align=\"middle\"/>"
   ]
  }
 ],
 "metadata": {
  "celltoolbar": "Slideshow",
  "kernelspec": {
   "display_name": "R",
   "language": "R",
   "name": "ir"
  },
  "language_info": {
   "codemirror_mode": "r",
   "file_extension": ".r",
   "mimetype": "text/x-r-source",
   "name": "R",
   "pygments_lexer": "r",
   "version": "4.2.0"
  },
  "rise": {
   "autolaunch": true,
   "height": "80%",
   "scroll": true,
   "theme": "serif",
   "width": "90%"
  }
 },
 "nbformat": 4,
 "nbformat_minor": 5
}
